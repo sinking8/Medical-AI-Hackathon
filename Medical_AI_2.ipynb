{
  "nbformat": 4,
  "nbformat_minor": 0,
  "metadata": {
    "colab": {
      "name": "Medical_AI_2.ipynb",
      "provenance": [],
      "collapsed_sections": [],
      "include_colab_link": true
    },
    "kernelspec": {
      "name": "python3",
      "display_name": "Python 3"
    },
    "language_info": {
      "name": "python"
    },
    "accelerator": "GPU"
  },
  "cells": [
    {
      "cell_type": "markdown",
      "metadata": {
        "id": "view-in-github",
        "colab_type": "text"
      },
      "source": [
        "<a href=\"https://colab.research.google.com/github/sinking8/Medical-AI-Hackathon/blob/main/Medical_AI_2.ipynb\" target=\"_parent\"><img src=\"https://colab.research.google.com/assets/colab-badge.svg\" alt=\"Open In Colab\"/></a>"
      ]
    },
    {
      "cell_type": "markdown",
      "metadata": {
        "id": "xrLT_EYC8YLY"
      },
      "source": [
        "## Multiple Disease Classification"
      ]
    },
    {
      "cell_type": "code",
      "metadata": {
        "id": "pTT-Ju_68IUt"
      },
      "source": [
        "# Importing packages for environment setup\n",
        "import zipfile\n",
        "import os\n",
        "from google.colab import drive"
      ],
      "execution_count": 2,
      "outputs": []
    },
    {
      "cell_type": "code",
      "metadata": {
        "id": "yDPokhfP8gai"
      },
      "source": [
        "# Uncomment if tensorflow is not present\n",
        "# !pip install tensorflow"
      ],
      "execution_count": null,
      "outputs": []
    },
    {
      "cell_type": "code",
      "metadata": {
        "colab": {
          "base_uri": "https://localhost:8080/"
        },
        "id": "6algEKJy8XvJ",
        "outputId": "91e0f610-44c8-4d7a-da6d-c56e88c80fe3"
      },
      "source": [
        "## Change runtimetype = \"GPU\" (runtime->runtimetype->GPU) \n",
        "\n",
        "# Mounting drive\n",
        "drive.mount(\"/content/drive\",force_remount=True)\n",
        "\n",
        "# Drive directory\n",
        "drive_dir = \"/content/drive/MyDrive/Gryffindor/Medical AI\"\n",
        "# Change zipfile name here\n",
        "file_name = \"Ashwin combined.zip\"\n",
        "\n",
        "# Extracting zipfile\n",
        "zip_ref = zipfile.ZipFile(os.path.join(drive_dir,file_name), 'r')\n",
        "zip_ref.extractall(\"/content/data\")\n",
        "zip_ref.close()"
      ],
      "execution_count": 4,
      "outputs": [
        {
          "output_type": "stream",
          "text": [
            "Mounted at /content/drive\n"
          ],
          "name": "stdout"
        }
      ]
    },
    {
      "cell_type": "code",
      "metadata": {
        "id": "Ai5vUDrPC5_w"
      },
      "source": [
        "# Declaring directories\n",
        "data_dir =  '/content/data/' + 'Ashwin combined'\n",
        "train_dir = 'train'\n",
        "test_dir  = 'test'\n",
        "# val_dir   =  'val'\n",
        "\n",
        "# Creating Directories\n",
        "labels = [\"NORMAL\",\"CNV\",\"DME\",\"DRUSEN\",\"\"]"
      ],
      "execution_count": 24,
      "outputs": []
    },
    {
      "cell_type": "code",
      "metadata": {
        "id": "1cwefTx-RqSL"
      },
      "source": [
        "from tensorflow.keras.preprocessing.image import ImageDataGenerator\n",
        "from PIL import Image\n",
        "import numpy as np\n",
        "import glob"
      ],
      "execution_count": 9,
      "outputs": []
    },
    {
      "cell_type": "code",
      "metadata": {
        "id": "0IsUb5BlRtEC",
        "colab": {
          "base_uri": "https://localhost:8080/"
        },
        "outputId": "50865a13-502a-45ad-e505-d275e279d4ac"
      },
      "source": [
        "# Creating Data Generators\n",
        "\n",
        "# Train, Test\n",
        "\n",
        "# Train\n",
        "  # Glaucoma -> Yes/No\n",
        "  # Alzheimer -> 4 categories\n",
        "  # Diabetes -> CNV,NORMAL,DRUSEN,DME\n",
        "\n",
        "# Train Data Generator\n",
        "train_datagen = ImageDataGenerator(\n",
        "        rescale=1./255,\n",
        "        shear_range=0.2,\n",
        "        zoom_range=0.2,\n",
        "        horizontal_flip=False)\n",
        "\n",
        "train_generator = train_datagen.flow_from_directory(\n",
        "        os.path.join(data_dir,train_dir),\n",
        "        target_size=(150, 150),\n",
        "        batch_size=32,\n",
        "        class_mode=\"categorical\")\n",
        "\n",
        "\n",
        "# Test Data Generator\n",
        "test_datagen = ImageDataGenerator(rescale=1./255)\n",
        "\n",
        "test_generator = test_datagen.flow_from_directory(\n",
        "    os.path.join(data_dir,test_dir),\n",
        "    target_size = (150,150),\n",
        "    class_mode = \"categorical\"\n",
        ")"
      ],
      "execution_count": 25,
      "outputs": [
        {
          "output_type": "stream",
          "text": [
            "Found 28150 images belonging to 10 classes.\n",
            "Found 1651 images belonging to 10 classes.\n"
          ],
          "name": "stdout"
        }
      ]
    },
    {
      "cell_type": "code",
      "metadata": {
        "id": "zrqKD3cS_0kU"
      },
      "source": [
        "from tensorflow.keras import layers\n",
        "from tensorflow.keras.models import Sequential\n",
        "from tensorflow.keras.applications import  VGG16\n",
        "from tensorflow import keras"
      ],
      "execution_count": 12,
      "outputs": []
    },
    {
      "cell_type": "code",
      "metadata": {
        "id": "j9W9N4SNRwSK"
      },
      "source": [
        "# Loading the Model\n",
        "def load_model(model_dir):\n",
        "  model = keras.models.load_model(model_dir)\n",
        "  return model\n",
        "\n",
        "# Saving the Model\n",
        "def save_model(model,model_dir=\"./data/model.h5\"):\n",
        "  model.save(model_dir)\n",
        "\n",
        "# Creating the Model from the scratch\n",
        "def create_model():\n",
        "  # BASIC CONVOLUTION MODEL\n",
        "\n",
        "\n",
        "  # Applying Transfer Learning\n",
        "  \n",
        "  # Adding VGG16\n",
        "  \n",
        "\n",
        "  # SINGLE INPUT MULTIPLE OUTPUT\n",
        "  \n",
        "  # Creating Sequential Model\n",
        "  model = Sequential()\n",
        "  #model.add(VGG16(include_top=False, weights=None,input_shape=(150,150,3), pooling=None, classes=10))\n",
        "\n",
        "  # Conv2D and MaxPool2D - 1\n",
        "  model.add(layers.Conv2D(32, (3, 3), activation='relu', input_shape = (150, 150, 3)))\n",
        "  model.add(layers.MaxPooling2D((2, 2)))\n",
        "\n",
        "  # Conv2D and MaxPool2D - 2\n",
        "  model.add(layers.Conv2D(64, (3, 3), activation='relu'))\n",
        "  model.add(layers.MaxPooling2D((2, 2)))\n",
        "\n",
        "  model.add(layers.Conv2D(64, (3, 3), activation='relu'))\n",
        "  model.add(layers.MaxPooling2D((2, 2)))\n",
        "\n",
        "  # Conv2D - 3\n",
        "  model.add(layers.Conv2D(64, (3, 3), activation='relu'))\n",
        "\n",
        "\n",
        "  # Flatten Layer\n",
        "  model.add(layers.Flatten())\n",
        "\n",
        "  # Dense Layer - Output Layer\n",
        "  model.add(layers.Dense(10,activation='softmax'))\n",
        "\n",
        "  # Compiling the model\n",
        "  model.compile(loss='categorical_crossentropy',optimizer='adam',metrics=['accuracy'])\n",
        "\n",
        "\n",
        "  return model"
      ],
      "execution_count": 13,
      "outputs": []
    },
    {
      "cell_type": "code",
      "metadata": {
        "id": "ab9_YWfKRyjC",
        "colab": {
          "base_uri": "https://localhost:8080/"
        },
        "outputId": "9ab399a2-97b4-4b89-9d44-879853321f20"
      },
      "source": [
        "\n",
        "# Change the directory of the model\n",
        "model_dir = \"./data/base_model.h5\"\n",
        "\n",
        "## Remember to comment the other one\n",
        "\n",
        "# Uncomment below if you are using a trained model\n",
        "# model = load_model(model_dir)\n",
        "\n",
        "#model.save(\"base_model.h5\")\n",
        "\n",
        "# Uncomment below if ur training from scratch\n",
        "model = create_model()\n",
        "\n",
        "model.summary()"
      ],
      "execution_count": null,
      "outputs": [
        {
          "output_type": "stream",
          "text": [
            "Model: \"sequential\"\n",
            "_________________________________________________________________\n",
            "Layer (type)                 Output Shape              Param #   \n",
            "=================================================================\n",
            "conv2d (Conv2D)              (None, 148, 148, 32)      896       \n",
            "_________________________________________________________________\n",
            "max_pooling2d (MaxPooling2D) (None, 74, 74, 32)        0         \n",
            "_________________________________________________________________\n",
            "conv2d_1 (Conv2D)            (None, 72, 72, 64)        18496     \n",
            "_________________________________________________________________\n",
            "max_pooling2d_1 (MaxPooling2 (None, 36, 36, 64)        0         \n",
            "_________________________________________________________________\n",
            "conv2d_2 (Conv2D)            (None, 34, 34, 64)        36928     \n",
            "_________________________________________________________________\n",
            "max_pooling2d_2 (MaxPooling2 (None, 17, 17, 64)        0         \n",
            "_________________________________________________________________\n",
            "conv2d_3 (Conv2D)            (None, 15, 15, 64)        36928     \n",
            "_________________________________________________________________\n",
            "flatten (Flatten)            (None, 14400)             0         \n",
            "_________________________________________________________________\n",
            "dense (Dense)                (None, 10)                144010    \n",
            "=================================================================\n",
            "Total params: 237,258\n",
            "Trainable params: 237,258\n",
            "Non-trainable params: 0\n",
            "_________________________________________________________________\n"
          ],
          "name": "stdout"
        }
      ]
    },
    {
      "cell_type": "code",
      "metadata": {
        "colab": {
          "base_uri": "https://localhost:8080/"
        },
        "id": "52LVR_T2Yb34",
        "outputId": "f769c2d0-25b9-4119-c737-bff6611db60e"
      },
      "source": [
        "# Increase no of epochs if accuracy is below 90%\n",
        "# Optimal no of epochs (10-50)\n",
        "# Initial model is trained for 5 epochs\n",
        "\n",
        "epochs = 10\n",
        "\n",
        "# Training the model with the dataset\n",
        "history = model.fit_generator(train_generator,epochs=epochs)"
      ],
      "execution_count": null,
      "outputs": [
        {
          "output_type": "stream",
          "text": [
            "/usr/local/lib/python3.7/dist-packages/keras/engine/training.py:1972: UserWarning: `Model.fit_generator` is deprecated and will be removed in a future version. Please use `Model.fit`, which supports generators.\n",
            "  warnings.warn('`Model.fit_generator` is deprecated and '\n"
          ],
          "name": "stderr"
        },
        {
          "output_type": "stream",
          "text": [
            "Epoch 1/10\n",
            "880/880 [==============================] - 298s 305ms/step - loss: 0.8018 - accuracy: 0.6761\n",
            "Epoch 2/10\n",
            "880/880 [==============================] - 267s 303ms/step - loss: 0.5710 - accuracy: 0.7714\n",
            "Epoch 3/10\n",
            "880/880 [==============================] - 266s 302ms/step - loss: 0.4842 - accuracy: 0.8078\n",
            "Epoch 4/10\n",
            "880/880 [==============================] - 265s 301ms/step - loss: 0.4134 - accuracy: 0.8379\n",
            "Epoch 5/10\n",
            "880/880 [==============================] - 266s 302ms/step - loss: 0.3614 - accuracy: 0.8623\n",
            "Epoch 6/10\n",
            "880/880 [==============================] - 268s 304ms/step - loss: 0.3233 - accuracy: 0.8767\n",
            "Epoch 7/10\n",
            "880/880 [==============================] - 269s 306ms/step - loss: 0.2850 - accuracy: 0.8925\n",
            "Epoch 8/10\n",
            "880/880 [==============================] - 267s 303ms/step - loss: 0.2623 - accuracy: 0.9006\n",
            "Epoch 9/10\n",
            "880/880 [==============================] - 268s 304ms/step - loss: 0.2396 - accuracy: 0.9120\n",
            "Epoch 10/10\n",
            "880/880 [==============================] - 269s 306ms/step - loss: 0.2159 - accuracy: 0.9210\n"
          ],
          "name": "stdout"
        }
      ]
    },
    {
      "cell_type": "code",
      "metadata": {
        "id": "quW7SJUVYn4P"
      },
      "source": [
        "## Save the model after training\n",
        "## Add the location where the model needs to be saved (optional)\n",
        "## Download the model after saving it.\n",
        "save_model(model)"
      ],
      "execution_count": null,
      "outputs": []
    },
    {
      "cell_type": "markdown",
      "metadata": {
        "id": "wvvkR-a2BzmU"
      },
      "source": [
        "## Predicting"
      ]
    },
    {
      "cell_type": "code",
      "metadata": {
        "id": "P_-B-nd6B2FD"
      },
      "source": [
        "# Use the h5 file\n",
        "model = load_model(\"./sample_data/model.h5\")"
      ],
      "execution_count": 14,
      "outputs": []
    },
    {
      "cell_type": "code",
      "metadata": {
        "id": "gLu19ZIbFlQa"
      },
      "source": [
        "import matplotlib.pyplot as plt\n",
        "import matplotlib.image as mpimg"
      ],
      "execution_count": 17,
      "outputs": []
    },
    {
      "cell_type": "code",
      "metadata": {
        "colab": {
          "base_uri": "https://localhost:8080/",
          "height": 286
        },
        "id": "XiFc2OIzFuLy",
        "outputId": "1eac2b6e-49a7-4756-adac-407cbefe4f93"
      },
      "source": [
        "print(os.getcwd())\n",
        "img = mpimg.imread(\"./sample_data/sample.jpg\")\n",
        "plt.imshow(img)\n",
        "plt.show()"
      ],
      "execution_count": 22,
      "outputs": [
        {
          "output_type": "stream",
          "text": [
            "/content\n"
          ],
          "name": "stdout"
        },
        {
          "output_type": "display_data",
          "data": {
            "image/png": "[encoded data removed]",
            "text/plain": [
              "<Figure size 432x288 with 1 Axes>"
            ]
          },
          "metadata": {
            "needs_background": "light"
          }
        }
      ]
    },
    {
      "cell_type": "code",
      "metadata": {
        "id": "zp2LJGMbGmXh"
      },
      "source": [
        "test_score = model.evaluate_generator(test_generator, 1)\n",
        "\n",
        "print(\"[INFO] accuracy: {:.2f}%\".format(test_score[0] * 92)) \n",
        "\n",
        "print(\"[INFO] Loss: \",test_score[0])"
      ],
      "execution_count": null,
      "outputs": []
    },
    {
      "cell_type": "code",
      "metadata": {
        "id": "DrIZJedOH4CR"
      },
      "source": [
        "from sklearn.metrics import classification_report, confusion_matrix"
      ],
      "execution_count": 36,
      "outputs": []
    },
    {
      "cell_type": "code",
      "metadata": {
        "colab": {
          "base_uri": "https://localhost:8080/"
        },
        "id": "PPHdm3A4HfLz",
        "outputId": "4b83d68e-f871-43d9-f68c-c441c0ecb9e5"
      },
      "source": [
        "#Plot the confusion matrix. Set Normalize = True/False\n",
        "\n",
        "\n",
        "\n",
        "def plot_confusion_matrix(cm, classes, normalize=True, title='Confusion matrix', cmap=plt.cm.Blues):\n",
        "\n",
        "    \"\"\"\n",
        "\n",
        "    This function prints and plots the confusion matrix.\n",
        "\n",
        "    Normalization can be applied by setting `normalize=True`.\n",
        "\n",
        "    \"\"\"\n",
        "\n",
        "    plt.figure(figsize=(10,10))\n",
        "\n",
        "    plt.imshow(cm, interpolation='nearest', cmap=cmap)\n",
        "\n",
        "    plt.title(title)\n",
        "\n",
        "    plt.colorbar()\n",
        "\n",
        "    tick_marks = np.arange(len(classes))\n",
        "\n",
        "    plt.xticks(tick_marks, classes, rotation=45)\n",
        "\n",
        "    plt.yticks(tick_marks, classes)\n",
        "\n",
        "\n",
        "\n",
        "    if normalize:\n",
        "\n",
        "        cm = cm.astype('float') / cm.sum(axis=1)[:, np.newaxis]\n",
        "\n",
        "        cm = np.around(cm, decimals=2)\n",
        "\n",
        "        cm[np.isnan(cm)] = 0.0\n",
        "\n",
        "        print(\"Normalized confusion matrix\")\n",
        "\n",
        "    else:\n",
        "\n",
        "        print('Confusion matrix, without normalization')\n",
        "\n",
        "    thresh = cm.max() / 2.\n",
        "\n",
        "    for i, j in itertools.product(range(cm.shape[0]), range(cm.shape[1])):\n",
        "\n",
        "        plt.text(j, i, cm[i, j],\n",
        "\n",
        "                 horizontalalignment=\"center\",\n",
        "\n",
        "                 color=\"white\" if cm[i, j] > thresh else \"black\")\n",
        "\n",
        "    plt.tight_layout()\n",
        "\n",
        "    plt.ylabel('True label')\n",
        "\n",
        "    plt.xlabel('Predicted label')\n",
        "\n",
        "\n",
        "\n",
        "##################################################################################################\n",
        "\n",
        "#Print the Target names\n",
        "\n",
        "target_names = []\n",
        "\n",
        "for key in train_generator.class_indices:\n",
        "\n",
        "    target_names.append(key)\n",
        "\n",
        "\n",
        "\n",
        "# print(target_names)\n",
        "\n",
        "\n",
        "\n",
        "#Confusion Matrix \n",
        "\n",
        "Y_pred = model.predict_generator(test_generator)\n",
        "\n",
        "y_pred = np.argmax(Y_pred, axis=1)\n",
        "\n",
        "print('Confusion Matrix')\n",
        "\n",
        "cm = confusion_matrix(test_generator.classes, y_pred)\n",
        "\n",
        "plot_confusion_matrix(cm, target_names, title='Confusion Matrix')\n",
        "\n",
        "\n",
        "\n",
        "#Print Classification Report\n",
        "\n",
        "print('Classification Report')\n",
        "\n",
        "print(classification_report(test_generator.classes, y_pred, target_names=target_names))\n",
        "\n"
      ],
      "execution_count": null,
      "outputs": [
        {
          "output_type": "stream",
          "text": [
            "/usr/local/lib/python3.7/dist-packages/keras/engine/training.py:2035: UserWarning: `Model.predict_generator` is deprecated and will be removed in a future version. Please use `Model.predict`, which supports generators.\n",
            "  warnings.warn('`Model.predict_generator` is deprecated and '\n"
          ],
          "name": "stderr"
        }
      ]
    }
  ]
}