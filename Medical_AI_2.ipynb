{
  "nbformat": 4,
  "nbformat_minor": 0,
  "metadata": {
    "colab": {
      "name": "Medical_AI_2.ipynb",
      "provenance": [],
      "collapsed_sections": [],
      "include_colab_link": true
    },
    "kernelspec": {
      "name": "python3",
      "display_name": "Python 3"
    },
    "language_info": {
      "name": "python"
    }
  },
  "cells": [
    {
      "cell_type": "markdown",
      "metadata": {
        "id": "view-in-github",
        "colab_type": "text"
      },
      "source": [
        "<a href=\"https://colab.research.google.com/github/sinking8/Medical-AI-Hackathon/blob/main/Medical_AI_2.ipynb\" target=\"_parent\"><img src=\"https://colab.research.google.com/assets/colab-badge.svg\" alt=\"Open In Colab\"/></a>"
      ]
    },
    {
      "cell_type": "markdown",
      "metadata": {
        "id": "xrLT_EYC8YLY"
      },
      "source": [
        "## Multiple Disease Classification"
      ]
    },
    {
      "cell_type": "code",
      "metadata": {
        "id": "pTT-Ju_68IUt"
      },
      "source": [
        "# Importing packages for environment setup\n",
        "import zipfile\n",
        "import os\n",
        "from google.colab import drive"
      ],
      "execution_count": null,
      "outputs": []
    },
    {
      "cell_type": "code",
      "metadata": {
        "id": "yDPokhfP8gai"
      },
      "source": [
        "# Uncomment if tensorflow is not present\n",
        "# !pip install tensorflow"
      ],
      "execution_count": null,
      "outputs": []
    },
    {
      "cell_type": "code",
      "metadata": {
        "colab": {
          "base_uri": "https://localhost:8080/"
        },
        "id": "6algEKJy8XvJ",
        "outputId": "d4ff3013-e6ef-43ce-f24c-c015c398e6bd"
      },
      "source": [
        "## Change runtimetype = \"GPU\" (runtime->runtimetype->GPU) \n",
        "\n",
        "# Mounting drive\n",
        "drive.mount(\"/content/drive\",force_remount=True)\n",
        "\n",
        "# Drive directory\n",
        "drive_dir = \"/content/drive/MyDrive/Gryffindor/Medical AI\"\n",
        "# Change zipfile name here\n",
        "file_name = \"Ashwin combined.zip\"\n",
        "\n",
        "# Extracting zipfile\n",
        "zip_ref = zipfile.ZipFile(os.path.join(drive_dir,file_name), 'r')\n",
        "zip_ref.extractall(\"/content/data\")\n",
        "zip_ref.close()"
      ],
      "execution_count": null,
      "outputs": [
        {
          "output_type": "stream",
          "text": [
            "Mounted at /content/drive\n"
          ],
          "name": "stdout"
        }
      ]
    },
    {
      "cell_type": "code",
      "metadata": {
        "id": "Ai5vUDrPC5_w"
      },
      "source": [
        "# Declaring directories\n",
        "data_dir =  '/content/data/' + 'Ashwin combined'\n",
        "train_dir = 'train'\n",
        "test_dir  = 'test'\n",
        "# val_dir   =  'val'\n",
        "\n",
        "# Creating Directories\n",
        "labels = [\"NORMAL\",\"CNV\",\"DME\",\"DRUSEN\",\"\"]"
      ],
      "execution_count": null,
      "outputs": []
    },
    {
      "cell_type": "code",
      "metadata": {
        "id": "1cwefTx-RqSL"
      },
      "source": [
        "from tensorflow.keras.preprocessing.image import ImageDataGenerator\n",
        "from PIL import Image\n",
        "import numpy as np\n",
        "import glob"
      ],
      "execution_count": null,
      "outputs": []
    },
    {
      "cell_type": "code",
      "metadata": {
        "id": "0IsUb5BlRtEC",
        "colab": {
          "base_uri": "https://localhost:8080/"
        },
        "outputId": "a2e0e9d9-1755-44da-ea90-21e6d3daf7e5"
      },
      "source": [
        "# Creating Data Generators\n",
        "\n",
        "# Train, Test\n",
        "\n",
        "# Train\n",
        "  # Glaucoma -> Yes/No\n",
        "  # Alzheimer -> 4 categories\n",
        "  # Diabetes -> CNV,NORMAL,DRUSEN,DME\n",
        "\n",
        "# Train Data Generator\n",
        "train_datagen = ImageDataGenerator(\n",
        "        rescale=1./255,\n",
        "        shear_range=0.2,\n",
        "        zoom_range=0.2,\n",
        "        horizontal_flip=False)\n",
        "\n",
        "train_generator = train_datagen.flow_from_directory(\n",
        "        os.path.join(data_dir,train_dir),\n",
        "        target_size=(150, 150),\n",
        "        batch_size=32,\n",
        "        class_mode=\"categorical\")\n",
        "\n",
        "\n",
        "# Test Data Generator\n",
        "test_datagen = ImageDataGenerator(rescale=1./255)\n",
        "\n",
        "test_generator = test_datagen.flow_from_directory(\n",
        "    os.path.join(data_dir,test_dir),\n",
        "    target_size = (150,150),\n",
        "    class_mode = \"categorical\"\n",
        ")"
      ],
      "execution_count": null,
      "outputs": [
        {
          "output_type": "stream",
          "text": [
            "Found 28150 images belonging to 10 classes.\n",
            "Found 1651 images belonging to 10 classes.\n"
          ],
          "name": "stdout"
        }
      ]
    },
    {
      "cell_type": "code",
      "metadata": {
        "id": "zrqKD3cS_0kU"
      },
      "source": [
        "from tensorflow.keras import layers\n",
        "from tensorflow.keras.models import Sequential"
      ],
      "execution_count": null,
      "outputs": []
    },
    {
      "cell_type": "code",
      "metadata": {
        "id": "j9W9N4SNRwSK"
      },
      "source": [
        "# Loading the Model\n",
        "def load_model(model_dir):\n",
        "  model = keras.models.load_model(model_dir)\n",
        "  return model\n",
        "\n",
        "# Saving the Model\n",
        "def save_model(model,model_dir=\"./data/model\"):\n",
        "  model.save(model_dir)\n",
        "\n",
        "# Creating the Model from the scratch\n",
        "def create_model():\n",
        "  # BASIC CONVOLUTION MODEL\n",
        "\n",
        "\n",
        "  # Applying Transfer Learning\n",
        "  \n",
        "  # Adding VGG16\n",
        "  # model.add(VGG16(include_top=False, weights=None,input_shape=(150,150,3), pooling=None, classes=4))\n",
        "\n",
        "  # SINGLE INPUT MULTIPLE OUTPUT\n",
        "  \n",
        "  # Creating Sequential Model\n",
        "  model = Sequential()\n",
        "\n",
        "  # Conv2D and MaxPool2D - 1\n",
        "  model.add(layers.Conv2D(32, (3, 3), activation='relu', input_shape=(150, 150, 3)))\n",
        "  model.add(layers.MaxPooling2D((2, 2)))\n",
        "\n",
        "  # Conv2D and MaxPool2D - 2\n",
        "  model.add(layers.Conv2D(64, (3, 3), activation='relu'))\n",
        "  model.add(layers.MaxPooling2D((2, 2)))  \n",
        "\n",
        "  # Conv2D and MaxPool2D - 3\n",
        "  model.add(layers.Conv2D(64, (3, 3), activation='relu'))\n",
        "  model.add(layers.AvgPool2D((2, 2)))  \n",
        "\n",
        "\n",
        "  # Conv2D - 3\n",
        "  model.add(layers.Conv2D(64, (3, 3), activation='relu'))\n",
        "\n",
        "  # Flatten Layer\n",
        "  model.add(layers.Flatten())\n",
        "\n",
        "  # Dense Layer - Output Layer\n",
        "  model.add(layers.Dense(10,activation='softmax'))\n",
        "\n",
        "  # Compiling the model\n",
        "  model.compile(loss='categorical_crossentropy',optimizer='adam',metrics=['accuracy'])\n",
        "\n",
        "\n",
        "  return model"
      ],
      "execution_count": null,
      "outputs": []
    },
    {
      "cell_type": "code",
      "metadata": {
        "id": "ab9_YWfKRyjC",
        "colab": {
          "base_uri": "https://localhost:8080/"
        },
        "outputId": "02822bc3-393f-4dad-9fe3-e0c6d02dc5c8"
      },
      "source": [
        "\n",
        "# Change the directory of the model\n",
        "model_dir = \"./data/base_model.h5\"\n",
        "\n",
        "## Remember to comment the other one\n",
        "\n",
        "# Uncomment below if you are using a trained model\n",
        "# model = load_model(model_dir)\n",
        "\n",
        "#model.save(\"base_model.h5\")\n",
        "\n",
        "# Uncomment below if ur training from scratch\n",
        "model = create_model()\n",
        "\n",
        "model.summary()"
      ],
      "execution_count": null,
      "outputs": [
        {
          "output_type": "stream",
          "text": [
            "Model: \"sequential_1\"\n",
            "_________________________________________________________________\n",
            "Layer (type)                 Output Shape              Param #   \n",
            "=================================================================\n",
            "conv2d_3 (Conv2D)            (None, 148, 148, 32)      896       \n",
            "_________________________________________________________________\n",
            "max_pooling2d_2 (MaxPooling2 (None, 74, 74, 32)        0         \n",
            "_________________________________________________________________\n",
            "conv2d_4 (Conv2D)            (None, 72, 72, 64)        18496     \n",
            "_________________________________________________________________\n",
            "max_pooling2d_3 (MaxPooling2 (None, 36, 36, 64)        0         \n",
            "_________________________________________________________________\n",
            "conv2d_5 (Conv2D)            (None, 34, 34, 64)        36928     \n",
            "_________________________________________________________________\n",
            "average_pooling2d (AveragePo (None, 17, 17, 64)        0         \n",
            "_________________________________________________________________\n",
            "conv2d_6 (Conv2D)            (None, 15, 15, 64)        36928     \n",
            "_________________________________________________________________\n",
            "flatten (Flatten)            (None, 14400)             0         \n",
            "_________________________________________________________________\n",
            "dense (Dense)                (None, 10)                144010    \n",
            "=================================================================\n",
            "Total params: 237,258\n",
            "Trainable params: 237,258\n",
            "Non-trainable params: 0\n",
            "_________________________________________________________________\n"
          ],
          "name": "stdout"
        }
      ]
    }
  ]
}